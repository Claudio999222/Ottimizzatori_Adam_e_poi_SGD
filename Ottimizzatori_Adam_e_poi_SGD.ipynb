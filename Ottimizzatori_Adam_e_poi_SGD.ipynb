{
 "cells": [
  {
   "cell_type": "code",
   "execution_count": 1,
   "metadata": {
    "collapsed": true,
    "jupyter": {
     "outputs_hidden": true
    }
   },
   "outputs": [],
   "source": [
    "import tensorflow as tf\n",
    "import matplotlib.pyplot as plt\n",
    "import numpy as np"
   ]
  },
  {
   "cell_type": "markdown",
   "metadata": {},
   "source": [
    "#### Importo il dataset MNIST"
   ]
  },
  {
   "cell_type": "code",
   "execution_count": 2,
   "metadata": {
    "pycharm": {
     "name": "#%%\n"
    }
   },
   "outputs": [],
   "source": [
    "(train_images, train_labels), (test_images, test_labels) = tf.keras.datasets.fashion_mnist.load_data()\n",
    "train_images = train_images.reshape(60000, 28, 28, 1)\n",
    "train_images = train_images.astype('float32') / 255\n",
    "\n",
    "test_images = test_images.reshape(10000, 28, 28, 1)\n",
    "test_images = test_images.astype('float32') / 255\n",
    "\n",
    "train_labels = tf.keras.utils.to_categorical(train_labels)\n",
    "\n",
    "test_labels = tf.keras.utils.to_categorical(test_labels)"
   ]
  },
  {
   "cell_type": "markdown",
   "metadata": {},
   "source": [
    "#### Mescolo il dataset di train e test"
   ]
  },
  {
   "cell_type": "code",
   "execution_count": 3,
   "metadata": {
    "pycharm": {
     "name": "#%%\n"
    }
   },
   "outputs": [],
   "source": [
    "ids = [i for i in range(len(train_images))]\n",
    "np.random.shuffle(ids)\n",
    "train_images = train_images[ids, :, :, :]\n",
    "train_labels = train_labels[ids, :]\n",
    "\n",
    "train_images = train_images[:20000]\n",
    "train_labels = train_labels[:20000]\n",
    "\n",
    "ids = [i for i in range(len(test_images))]\n",
    "np.random.shuffle(ids)\n",
    "test_images = test_images[ids, :, :, :]\n",
    "test_labels = test_labels[ids, :]\n",
    "\n",
    "test_images = test_images[:500]\n",
    "test_labels = test_labels[:500]"
   ]
  },
  {
   "cell_type": "markdown",
   "metadata": {},
   "source": [
    "#### Architettura del modello"
   ]
  },
  {
   "cell_type": "code",
   "execution_count": 4,
   "metadata": {
    "pycharm": {
     "name": "#%%\n"
    }
   },
   "outputs": [
    {
     "name": "stdout",
     "output_type": "stream",
     "text": [
      "Model: \"sequential\"\n",
      "_________________________________________________________________\n",
      " Layer (type)                Output Shape              Param #   \n",
      "=================================================================\n",
      " conv2d (Conv2D)             (None, 28, 28, 16)        160       \n",
      "                                                                 \n",
      " dropout (Dropout)           (None, 28, 28, 16)        0         \n",
      "                                                                 \n",
      " max_pooling2d (MaxPooling2D  (None, 14, 14, 16)       0         \n",
      " )                                                               \n",
      "                                                                 \n",
      " conv2d_1 (Conv2D)           (None, 12, 12, 32)        4640      \n",
      "                                                                 \n",
      " dropout_1 (Dropout)         (None, 12, 12, 32)        0         \n",
      "                                                                 \n",
      " max_pooling2d_1 (MaxPooling  (None, 6, 6, 32)         0         \n",
      " 2D)                                                             \n",
      "                                                                 \n",
      " flatten (Flatten)           (None, 1152)              0         \n",
      "                                                                 \n",
      " dense (Dense)               (None, 32)                36896     \n",
      "                                                                 \n",
      " dense_1 (Dense)             (None, 10)                330       \n",
      "                                                                 \n",
      "=================================================================\n",
      "Total params: 42,026\n",
      "Trainable params: 42,026\n",
      "Non-trainable params: 0\n",
      "_________________________________________________________________\n"
     ]
    }
   ],
   "source": [
    "def get_network():\n",
    "    my_network = tf.keras.models.Sequential()\n",
    "    my_network.add(tf.keras.layers.Conv2D(16, kernel_size=(3, 3), activation='swish', padding='same', input_shape=(28, 28, 1)))\n",
    "    my_network.add(tf.keras.layers.Dropout(0.5))\n",
    "    my_network.add(tf.keras.layers.MaxPool2D(pool_size=(2, 2)))\n",
    "    my_network.add(tf.keras.layers.Conv2D(32, kernel_size=(3, 3), activation='swish'))\n",
    "    my_network.add(tf.keras.layers.Dropout(0.5))\n",
    "    my_network.add(tf.keras.layers.MaxPool2D(pool_size=(2, 2)))\n",
    "    my_network.add(tf.keras.layers.Flatten())\n",
    "    my_network.add(tf.keras.layers.Dense(32, activation='swish'))\n",
    "    my_network.add(tf.keras.layers.Dense(10, activation='softmax'))\n",
    "    return my_network\n",
    "\n",
    "my_network = get_network()\n",
    "my_network.summary()"
   ]
  },
  {
   "cell_type": "markdown",
   "metadata": {},
   "source": [
    "#### Funzione di visualizzazione dei log di addestramento ogni 5 epoche"
   ]
  },
  {
   "cell_type": "code",
   "execution_count": 5,
   "metadata": {
    "pycharm": {
     "name": "#%%\n"
    }
   },
   "outputs": [],
   "source": [
    "def print_after_n_epoch(epoch, logs):\n",
    "    if (epoch + 1) % 25 == 0:\n",
    "        print('Epoca', epoch + 1, 'Loss:', logs['loss'], '  Acc:', logs['accuracy'], 'Val_loss:', logs['val_loss'], '  Val_acc:', logs['val_accuracy'])\n",
    "\n",
    "print_callback = tf.keras.callbacks.LambdaCallback(on_epoch_end=print_after_n_epoch)"
   ]
  },
  {
   "cell_type": "markdown",
   "metadata": {},
   "source": [
    "#### Addestramento del modello"
   ]
  },
  {
   "cell_type": "code",
   "execution_count": 6,
   "metadata": {
    "pycharm": {
     "name": "#%%\n"
    }
   },
   "outputs": [
    {
     "name": "stdout",
     "output_type": "stream",
     "text": [
      "Epoca 25 Loss: 0.4020351767539978   Acc: 0.8561499714851379 Val_loss: 0.6858475804328918   Val_acc: 0.7519999742507935\n",
      "Epoca 50 Loss: 0.33231115341186523   Acc: 0.8790000081062317 Val_loss: 0.5518260598182678   Val_acc: 0.8420000076293945\n",
      "Epoca 75 Loss: 0.2909744679927826   Acc: 0.890999972820282 Val_loss: 0.480478435754776   Val_acc: 0.8700000047683716\n",
      "Epoca 100 Loss: 0.2596568167209625   Acc: 0.9046000242233276 Val_loss: 0.43507230281829834   Val_acc: 0.878000020980835\n",
      "Epoca 125 Loss: 0.24135495722293854   Acc: 0.9103500247001648 Val_loss: 0.4128932058811188   Val_acc: 0.8600000143051147\n",
      "Epoca 150 Loss: 0.2251604199409485   Acc: 0.9143999814987183 Val_loss: 0.4065682291984558   Val_acc: 0.8539999723434448\n",
      "Epoca 175 Loss: 0.20962639153003693   Acc: 0.9211000204086304 Val_loss: 0.37199509143829346   Val_acc: 0.8679999709129333\n",
      "Epoca 200 Loss: 0.19765986502170563   Acc: 0.92535001039505 Val_loss: 0.3681100010871887   Val_acc: 0.8640000224113464\n",
      "Epoca 225 Loss: 0.18241173028945923   Acc: 0.9329000115394592 Val_loss: 0.3509986698627472   Val_acc: 0.871999979019165\n",
      "Epoca 250 Loss: 0.179254412651062   Acc: 0.9325500130653381 Val_loss: 0.3540092706680298   Val_acc: 0.8740000128746033\n",
      "Epoca 275 Loss: 0.169643834233284   Acc: 0.9355499744415283 Val_loss: 0.3526192903518677   Val_acc: 0.8619999885559082\n",
      "Epoca 300 Loss: 0.16275885701179504   Acc: 0.9384999871253967 Val_loss: 0.35869312286376953   Val_acc: 0.8700000047683716\n",
      "Epoca 325 Loss: 0.15890410542488098   Acc: 0.9386000037193298 Val_loss: 0.35635289549827576   Val_acc: 0.8679999709129333\n",
      "Epoca 350 Loss: 0.1521952599287033   Acc: 0.9429500102996826 Val_loss: 0.3588552176952362   Val_acc: 0.8619999885559082\n",
      "Epoca 375 Loss: 0.14680008590221405   Acc: 0.9437000155448914 Val_loss: 0.36594510078430176   Val_acc: 0.8600000143051147\n",
      "Epoca 400 Loss: 0.13930164277553558   Acc: 0.9462500214576721 Val_loss: 0.3754339814186096   Val_acc: 0.8679999709129333\n",
      "Epoca 425 Loss: 0.14098548889160156   Acc: 0.9458500146865845 Val_loss: 0.36112818121910095   Val_acc: 0.8740000128746033\n",
      "Epoca 450 Loss: 0.13346704840660095   Acc: 0.9502000212669373 Val_loss: 0.38819631934165955   Val_acc: 0.8539999723434448\n",
      "Epoca 475 Loss: 0.13109202682971954   Acc: 0.9504500031471252 Val_loss: 0.38134056329727173   Val_acc: 0.8619999885559082\n",
      "Epoca 500 Loss: 0.1289338916540146   Acc: 0.9506499767303467 Val_loss: 0.38580504059791565   Val_acc: 0.8619999885559082\n",
      "Epoca 525 Loss: 0.12646113336086273   Acc: 0.9517499804496765 Val_loss: 0.3848969042301178   Val_acc: 0.8619999885559082\n",
      "Epoca 550 Loss: 0.12473086267709732   Acc: 0.9536499977111816 Val_loss: 0.38929373025894165   Val_acc: 0.8640000224113464\n",
      "Epoca 575 Loss: 0.12568195164203644   Acc: 0.9521999955177307 Val_loss: 0.4033932685852051   Val_acc: 0.8539999723434448\n",
      "Epoca 600 Loss: 0.12134329974651337   Acc: 0.9539499878883362 Val_loss: 0.4150669574737549   Val_acc: 0.8539999723434448\n",
      "Epoca 625 Loss: 0.11422037333250046   Acc: 0.9549499750137329 Val_loss: 0.4048563539981842   Val_acc: 0.8539999723434448\n",
      "Epoca 650 Loss: 0.11526114493608475   Acc: 0.9553499817848206 Val_loss: 0.43046826124191284   Val_acc: 0.8539999723434448\n",
      "Epoca 675 Loss: 0.12377381324768066   Acc: 0.953249990940094 Val_loss: 0.44509637355804443   Val_acc: 0.8600000143051147\n",
      "Epoca 700 Loss: 0.11248796433210373   Acc: 0.9578999876976013 Val_loss: 0.45772314071655273   Val_acc: 0.8600000143051147\n",
      "Epoca 725 Loss: 0.10996019095182419   Acc: 0.9574999809265137 Val_loss: 0.44232985377311707   Val_acc: 0.8539999723434448\n",
      "Epoca 750 Loss: 0.11108457297086716   Acc: 0.9592499732971191 Val_loss: 0.45308586955070496   Val_acc: 0.8619999885559082\n",
      "Epoca 775 Loss: 0.1064051166176796   Acc: 0.9589999914169312 Val_loss: 0.4272959232330322   Val_acc: 0.8700000047683716\n",
      "Epoca 800 Loss: 0.10242730379104614   Acc: 0.9610499739646912 Val_loss: 0.4377525746822357   Val_acc: 0.8519999980926514\n",
      "Epoca 825 Loss: 0.10557707399129868   Acc: 0.9608500003814697 Val_loss: 0.46072643995285034   Val_acc: 0.8519999980926514\n",
      "Epoca 850 Loss: 0.10277479141950607   Acc: 0.9614999890327454 Val_loss: 0.4700000286102295   Val_acc: 0.8640000224113464\n",
      "Epoca 875 Loss: 0.10363404452800751   Acc: 0.961650013923645 Val_loss: 0.4587942063808441   Val_acc: 0.8479999899864197\n",
      "Epoca 900 Loss: 0.10492884367704391   Acc: 0.9606500267982483 Val_loss: 0.4949357211589813   Val_acc: 0.8579999804496765\n",
      "Epoca 925 Loss: 0.10223903506994247   Acc: 0.961899995803833 Val_loss: 0.4800841212272644   Val_acc: 0.8600000143051147\n",
      "Epoca 950 Loss: 0.10041859745979309   Acc: 0.9630500078201294 Val_loss: 0.4882299304008484   Val_acc: 0.8460000157356262\n",
      "Epoca 975 Loss: 0.09408599138259888   Acc: 0.9652500152587891 Val_loss: 0.48507726192474365   Val_acc: 0.8519999980926514\n",
      "Epoca 1000 Loss: 0.09881775826215744   Acc: 0.9623000025749207 Val_loss: 0.46708089113235474   Val_acc: 0.8560000061988831\n"
     ]
    }
   ],
   "source": [
    "my_network.compile(\n",
    "    optimizer='adam',\n",
    "    loss='categorical_crossentropy',\n",
    "    metrics=['accuracy']\n",
    ")\n",
    "\n",
    "only_adam = my_network.fit(\n",
    "    train_images,\n",
    "    train_labels,\n",
    "    batch_size=1024,\n",
    "    epochs=1000,\n",
    "    verbose=0,\n",
    "    validation_data=(test_images, test_labels),\n",
    "    callbacks=print_callback\n",
    ")"
   ]
  },
  {
   "cell_type": "markdown",
   "metadata": {},
   "source": [
    "#### Illustrazione di Loss e Accuracy in addestramento"
   ]
  },
  {
   "cell_type": "code",
   "execution_count": 7,
   "metadata": {
    "pycharm": {
     "name": "#%%\n"
    }
   },
   "outputs": [
    {
     "data": {
      "image/png": "[encoded data removed]",
      "text/plain": [
       "<Figure size 432x288 with 1 Axes>"
      ]
     },
     "metadata": {
      "needs_background": "light"
     },
     "output_type": "display_data"
    },
    {
     "data": {
      "image/png": "[encoded data removed]",
      "text/plain": [
       "<Figure size 432x288 with 1 Axes>"
      ]
     },
     "metadata": {
      "needs_background": "light"
     },
     "output_type": "display_data"
    },
    {
     "name": "stdout",
     "output_type": "stream",
     "text": [
      "--- valutazione modello ---\n",
      "16/16 [==============================] - 0s 8ms/step - loss: 0.4671 - accuracy: 0.8560\b\b\b\b\b\b\b\b\b\b\b\b\b\b\b\b\b\b\b\b\b\b\b\b\b\b\b\b\b\b\b\b\b\b\b\b\b\b\b\b\b\b\b\b\b\b\b\b\b\b\b\b\b\b\b\b\b\b\b\b\b\b\b\b\b\b\b\b\b\b\b\b\b\b\b\b\b\b\b\b\b\b\b\b\b\b\b\b\b\b\b\b\b\b\b\b\b\b\b\b\b\b\b\b\b\b\b\b\b\b\b\b\b\b\b\b\b\b\b\b\b\b\b\b\b\b\b\b\b\b\b\b\b\b\b\b\b\b\b\b\b\b\b\b\b\b\b\b\b\b\b\b\b\b\b\b\b\b\b\b\n"
     ]
    },
    {
     "data": {
      "text/plain": [
       "[0.46708470582962036, 0.8560000061988831]"
      ]
     },
     "execution_count": 7,
     "metadata": {},
     "output_type": "execute_result"
    }
   ],
   "source": [
    "plt.plot(only_adam.history['loss'], label='loss')\n",
    "plt.plot(only_adam.history['val_loss'], label='val.loss')\n",
    "plt.title('Loss')\n",
    "plt.legend()\n",
    "plt.show()\n",
    "\n",
    "plt.plot(only_adam.history['accuracy'], label='acc')\n",
    "plt.plot(only_adam.history['val_accuracy'], label='val.acc')\n",
    "plt.title('Accuracy')\n",
    "plt.legend()\n",
    "plt.show()\n",
    "\n",
    "print('--- valutazione modello ---')\n",
    "my_network.evaluate(test_images, test_labels)"
   ]
  },
  {
   "cell_type": "markdown",
   "metadata": {},
   "source": [
    "#### Salvo i pesi e li ricarico per riaddestrare il modello con Standard Gradient Discent \n",
    "in modo tale possiamo notare che continuare un addestramento con la SGD puo massimizzare le previsioni del modello "
   ]
  },
  {
   "cell_type": "code",
   "execution_count": 8,
   "metadata": {
    "pycharm": {
     "name": "#%%\n"
    }
   },
   "outputs": [
    {
     "name": "stdout",
     "output_type": "stream",
     "text": [
      "Model: \"sequential_1\"\n",
      "_________________________________________________________________\n",
      " Layer (type)                Output Shape              Param #   \n",
      "=================================================================\n",
      " conv2d_2 (Conv2D)           (None, 28, 28, 16)        160       \n",
      "                                                                 \n",
      " dropout_2 (Dropout)         (None, 28, 28, 16)        0         \n",
      "                                                                 \n",
      " max_pooling2d_2 (MaxPooling  (None, 14, 14, 16)       0         \n",
      " 2D)                                                             \n",
      "                                                                 \n",
      " conv2d_3 (Conv2D)           (None, 12, 12, 32)        4640      \n",
      "                                                                 \n",
      " dropout_3 (Dropout)         (None, 12, 12, 32)        0         \n",
      "                                                                 \n",
      " max_pooling2d_3 (MaxPooling  (None, 6, 6, 32)         0         \n",
      " 2D)                                                             \n",
      "                                                                 \n",
      " flatten_1 (Flatten)         (None, 1152)              0         \n",
      "                                                                 \n",
      " dense_2 (Dense)             (None, 32)                36896     \n",
      "                                                                 \n",
      " dense_3 (Dense)             (None, 10)                330       \n",
      "                                                                 \n",
      "=================================================================\n",
      "Total params: 42,026\n",
      "Trainable params: 42,026\n",
      "Non-trainable params: 0\n",
      "_________________________________________________________________\n",
      "Epoca 25 Loss: 0.38784489035606384   Acc: 0.8580499887466431 Val_loss: 0.6990026235580444   Val_acc: 0.7519999742507935\n",
      "Epoca 50 Loss: 0.32617947459220886   Acc: 0.8823500275611877 Val_loss: 0.631340742111206   Val_acc: 0.7739999890327454\n",
      "Epoca 75 Loss: 0.2945192754268646   Acc: 0.8900499939918518 Val_loss: 0.5421363711357117   Val_acc: 0.8140000104904175\n",
      "Epoca 100 Loss: 0.26335087418556213   Acc: 0.8999999761581421 Val_loss: 0.49803853034973145   Val_acc: 0.8159999847412109\n",
      "Epoca 125 Loss: 0.2445075511932373   Acc: 0.9102500081062317 Val_loss: 0.4440799057483673   Val_acc: 0.8560000061988831\n",
      "Epoca 150 Loss: 0.22862759232521057   Acc: 0.9121999740600586 Val_loss: 0.41112908720970154   Val_acc: 0.8560000061988831\n",
      "Epoca 175 Loss: 0.2157319337129593   Acc: 0.9194499850273132 Val_loss: 0.39957544207572937   Val_acc: 0.8600000143051147\n",
      "Epoca 200 Loss: 0.20145276188850403   Acc: 0.922249972820282 Val_loss: 0.3869573473930359   Val_acc: 0.8619999885559082\n",
      "Epoca 225 Loss: 0.19640322029590607   Acc: 0.925599992275238 Val_loss: 0.38357895612716675   Val_acc: 0.8500000238418579\n",
      "Epoca 250 Loss: 0.1846971958875656   Acc: 0.9299499988555908 Val_loss: 0.39259085059165955   Val_acc: 0.8560000061988831\n",
      "Epoca 275 Loss: 0.17698287963867188   Acc: 0.9319000244140625 Val_loss: 0.3718506991863251   Val_acc: 0.8560000061988831\n",
      "Epoca 300 Loss: 0.17359286546707153   Acc: 0.9350000023841858 Val_loss: 0.38859933614730835   Val_acc: 0.8579999804496765\n",
      "Epoca 325 Loss: 0.1690041720867157   Acc: 0.9358999729156494 Val_loss: 0.39278513193130493   Val_acc: 0.8539999723434448\n",
      "Epoca 350 Loss: 0.15608307719230652   Acc: 0.9405500292778015 Val_loss: 0.3917267620563507   Val_acc: 0.8579999804496765\n",
      "Epoca 375 Loss: 0.15808381140232086   Acc: 0.9386500120162964 Val_loss: 0.3599925935268402   Val_acc: 0.878000020980835\n",
      "Epoca 400 Loss: 0.15141704678535461   Acc: 0.9402999877929688 Val_loss: 0.36658164858818054   Val_acc: 0.871999979019165\n",
      "Epoca 425 Loss: 0.14295469224452972   Acc: 0.9439499974250793 Val_loss: 0.37310609221458435   Val_acc: 0.8619999885559082\n",
      "Epoca 450 Loss: 0.14425215125083923   Acc: 0.9458000063896179 Val_loss: 0.38350188732147217   Val_acc: 0.8659999966621399\n",
      "Epoca 475 Loss: 0.1381557136774063   Acc: 0.9476000070571899 Val_loss: 0.37255221605300903   Val_acc: 0.8759999871253967\n",
      "Epoca 500 Loss: 0.13523437082767487   Acc: 0.9486500024795532 Val_loss: 0.3702607750892639   Val_acc: 0.871999979019165\n",
      "Epoca 525 Loss: 0.12884308397769928   Acc: 0.9513000249862671 Val_loss: 0.3717239201068878   Val_acc: 0.8700000047683716\n",
      "Epoca 550 Loss: 0.12974564731121063   Acc: 0.9489499926567078 Val_loss: 0.39477410912513733   Val_acc: 0.8679999709129333\n",
      "Epoca 575 Loss: 0.12489791214466095   Acc: 0.9519000053405762 Val_loss: 0.4053844213485718   Val_acc: 0.871999979019165\n",
      "Epoca 600 Loss: 0.12587031722068787   Acc: 0.9512500166893005 Val_loss: 0.3781202733516693   Val_acc: 0.878000020980835\n",
      "Epoca 625 Loss: 0.12327734380960464   Acc: 0.9536499977111816 Val_loss: 0.39445239305496216   Val_acc: 0.8640000224113464\n",
      "Epoca 650 Loss: 0.11764543503522873   Acc: 0.9546999931335449 Val_loss: 0.38950788974761963   Val_acc: 0.871999979019165\n",
      "Epoca 675 Loss: 0.12235984206199646   Acc: 0.9528499841690063 Val_loss: 0.404161274433136   Val_acc: 0.871999979019165\n",
      "Epoca 700 Loss: 0.12232115119695663   Acc: 0.9528499841690063 Val_loss: 0.38732630014419556   Val_acc: 0.878000020980835\n",
      "Epoca 725 Loss: 0.11652304977178574   Acc: 0.9556999802589417 Val_loss: 0.4068767726421356   Val_acc: 0.871999979019165\n",
      "Epoca 750 Loss: 0.1152057871222496   Acc: 0.957099974155426 Val_loss: 0.39117977023124695   Val_acc: 0.8740000128746033\n",
      "Epoca 775 Loss: 0.11434280127286911   Acc: 0.957099974155426 Val_loss: 0.40237024426460266   Val_acc: 0.8659999966621399\n",
      "Epoca 800 Loss: 0.11102673411369324   Acc: 0.9564999938011169 Val_loss: 0.4257841110229492   Val_acc: 0.8659999966621399\n",
      "Epoca 825 Loss: 0.10963145643472672   Acc: 0.9578999876976013 Val_loss: 0.41424423456192017   Val_acc: 0.8740000128746033\n",
      "Epoca 850 Loss: 0.11021973937749863   Acc: 0.958050012588501 Val_loss: 0.40733006596565247   Val_acc: 0.8740000128746033\n",
      "Epoca 875 Loss: 0.10154230892658234   Acc: 0.9620500206947327 Val_loss: 0.41477489471435547   Val_acc: 0.8659999966621399\n",
      "Epoca 900 Loss: 0.09687075763940811   Acc: 0.9628999829292297 Val_loss: 0.405633807182312   Val_acc: 0.871999979019165\n",
      "Epoca 925 Loss: 0.10324748605489731   Acc: 0.9607999920845032 Val_loss: 0.41096609830856323   Val_acc: 0.8700000047683716\n",
      "Epoca 950 Loss: 0.10498811304569244   Acc: 0.9604499936103821 Val_loss: 0.39826899766921997   Val_acc: 0.878000020980835\n",
      "Epoca 975 Loss: 0.09729637205600739   Acc: 0.9626500010490417 Val_loss: 0.4053962826728821   Val_acc: 0.871999979019165\n",
      "Epoca 1000 Loss: 0.102760449051857   Acc: 0.9613000154495239 Val_loss: 0.4077652096748352   Val_acc: 0.8700000047683716\n"
     ]
    }
   ],
   "source": [
    "my_network = get_network()\n",
    "my_network.summary()\n",
    "\n",
    "my_network.compile(\n",
    "    optimizer='adam',\n",
    "    loss='categorical_crossentropy',\n",
    "    metrics=['accuracy']\n",
    ")\n",
    "\n",
    "adam_n_sgd_1 = my_network.fit(\n",
    "    train_images,\n",
    "    train_labels,\n",
    "    batch_size=1024,\n",
    "    epochs=850,\n",
    "    verbose=0,\n",
    "    validation_data=(test_images, test_labels),\n",
    "    callbacks=print_callback\n",
    ")\n",
    "\n",
    "my_network.save_weights('weights/weights')\n",
    "\n",
    "my_network.compile(\n",
    "    optimizer='sgd',\n",
    "    loss='categorical_crossentropy',\n",
    "    metrics=['accuracy']\n",
    ")\n",
    "\n",
    "my_network.load_weights('weights/weights')\n",
    "\n",
    "adam_n_sgd_2 = my_network.fit(\n",
    "    train_images,\n",
    "    train_labels,\n",
    "    batch_size=1024,\n",
    "    epochs=1000,\n",
    "    initial_epoch=850,\n",
    "    verbose=0,\n",
    "    validation_data=(test_images, test_labels),\n",
    "    callbacks=print_callback\n",
    ")"
   ]
  },
  {
   "cell_type": "markdown",
   "metadata": {},
   "source": [
    "#### Illustrazione Loss e Accuracy durante l'addestramento"
   ]
  },
  {
   "cell_type": "code",
   "execution_count": 9,
   "metadata": {
    "pycharm": {
     "name": "#%%\n"
    }
   },
   "outputs": [
    {
     "data": {
      "image/png": "[encoded data removed]",
      "text/plain": [
       "<Figure size 432x288 with 1 Axes>"
      ]
     },
     "metadata": {
      "needs_background": "light"
     },
     "output_type": "display_data"
    },
    {
     "data": {
      "image/png": "[encoded data removed]",
      "text/plain": [
       "<Figure size 432x288 with 1 Axes>"
      ]
     },
     "metadata": {
      "needs_background": "light"
     },
     "output_type": "display_data"
    },
    {
     "name": "stdout",
     "output_type": "stream",
     "text": [
      "--- valutazione modello ---\n",
      "16/16 [==============================] - 0s 3ms/step - loss: 0.4078 - accuracy: 0.8700\b\b\b\b\b\b\b\b\b\b\b\b\b\b\b\b\b\b\b\b\b\b\b\b\b\b\b\b\b\b\b\b\b\b\b\b\b\b\b\b\b\b\b\b\b\b\b\b\b\b\b\b\b\b\b\b\b\b\b\b\b\b\b\b\b\b\b\b\b\b\b\b\b\b\b\b\b\b\n"
     ]
    },
    {
     "data": {
      "text/plain": [
       "[0.4077654480934143, 0.8700000047683716]"
      ]
     },
     "execution_count": 9,
     "metadata": {},
     "output_type": "execute_result"
    }
   ],
   "source": [
    "x_1 = [i for i, x in enumerate(adam_n_sgd_1.history['loss'])]\n",
    "x_2 = [850 + i for i, x in enumerate(adam_n_sgd_2.history['loss'])]\n",
    "\n",
    "plt.plot(x_1, adam_n_sgd_1.history['loss'], label='loss', color='blue')\n",
    "plt.plot(x_1, adam_n_sgd_1.history['val_loss'], label='val.loss', color='orange')\n",
    "plt.plot(x_2, adam_n_sgd_2.history['loss'], label='loss', color='blue')\n",
    "plt.plot(x_2, adam_n_sgd_2.history['val_loss'], label='val.loss', color='orange')\n",
    "plt.title('Loss')\n",
    "plt.legend()\n",
    "plt.show()\n",
    "\n",
    "plt.plot(x_1, adam_n_sgd_1.history['accuracy'], label='acc', color='blue')\n",
    "plt.plot(x_1, adam_n_sgd_1.history['val_accuracy'], label='val.acc', color='orange')\n",
    "plt.plot(x_2, adam_n_sgd_2.history['accuracy'], label='acc', color='blue')\n",
    "plt.plot(x_2, adam_n_sgd_2.history['val_accuracy'], label='val.acc', color='orange')\n",
    "plt.title('Accuracy')\n",
    "plt.legend()\n",
    "plt.show()\n",
    "\n",
    "print('--- valutazione modello ---')\n",
    "my_network.evaluate(test_images, test_labels)"
   ]
  },
  {
   "cell_type": "code",
   "execution_count": 9,
   "metadata": {
    "pycharm": {
     "name": "#%%\n"
    }
   },
   "outputs": [],
   "source": []
  }
 ],
 "metadata": {
  "kernelspec": {
   "display_name": "Python 3 (ipykernel)",
   "language": "python",
   "name": "python3"
  },
  "language_info": {
   "codemirror_mode": {
    "name": "ipython",
    "version": 3
   },
   "file_extension": ".py",
   "mimetype": "text/x-python",
   "name": "python",
   "nbconvert_exporter": "python",
   "pygments_lexer": "ipython3",
   "version": "3.11.4"
  }
 },
 "nbformat": 4,
 "nbformat_minor": 4
}
